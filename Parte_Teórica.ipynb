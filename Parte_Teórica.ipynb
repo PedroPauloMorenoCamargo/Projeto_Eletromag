{
 "cells": [
  {
   "cell_type": "markdown",
   "id": "4cd24a1f",
   "metadata": {},
   "source": [
    "#                                               Projeto WPT"
   ]
  },
  {
   "cell_type": "markdown",
   "id": "43b7e326",
   "metadata": {},
   "source": [
    "### Diagrama do modelo eletrodinâmico do circuito WPT"
   ]
  },
  {
   "cell_type": "markdown",
   "id": "883d85ca",
   "metadata": {},
   "source": []
  },
  {
   "cell_type": "markdown",
   "id": "5412ff26",
   "metadata": {},
   "source": [
    "### Modelo Numérico"
   ]
  },
  {
   "cell_type": "markdown",
   "id": "46844fef",
   "metadata": {},
   "source": [
    "Módulos Utilizados"
   ]
  },
  {
   "cell_type": "code",
   "execution_count": 33,
   "id": "7e904057",
   "metadata": {},
   "outputs": [],
   "source": [
    "#Vamos importar os módulos que precisamos\n",
    "from math import *\n",
    "from cmath import *\n",
    "from numpy import linalg\n",
    "import numpy as np\n",
    "import matplotlib.pyplot as plt"
   ]
  },
  {
   "cell_type": "markdown",
   "id": "52f9e8e1",
   "metadata": {},
   "source": [
    "Variáveis do Sistema: $R_1=0,5\\Omega$, $R_2=0,5\\Omega$, $L_1=300 mH$, $L_2=300 mH$, $C_1 = 1\\mu F$, $C_2 = 1\\mu F$ e $k=0,5$"
   ]
  },
  {
   "cell_type": "code",
   "execution_count": 34,
   "id": "996bdd7d",
   "metadata": {},
   "outputs": [],
   "source": [
    "# Implementação Variáveis\n",
    "R_1 = 0.5\n",
    "R_2= R_1\n",
    "L_1 = 300e-3\n",
    "L_2 = L_1\n",
    "C_1 = 1e-6\n",
    "C_2 = C_1\n",
    "V1 = 5\n",
    "Lista_K = np.arange(0,1,0.05)\n",
    "RC= 10"
   ]
  },
  {
   "cell_type": "code",
   "execution_count": 35,
   "id": "66cbe053",
   "metadata": {},
   "outputs": [],
   "source": [
    "#Adotando W referencial para descobrir a frequencia quando M tende a 0\n",
    "W_ref = (1/(L_1*C_1))**(0.5)\n",
    "#Cálculo da Frequência Referente\n",
    "F_ref = W_ref/(2*np.pi)\n",
    "\n",
    "Lista_Frequencias =  np.arange(F_ref,F_ref*1.3, 1)"
   ]
  },
  {
   "cell_type": "code",
   "execution_count": 36,
   "id": "669f3eca",
   "metadata": {},
   "outputs": [],
   "source": [
    "def CalcularTransformador(R_1,R_2,Z_L1,Z_L2,Z_C1,Z_C2,Z_EQ,ZM,V1):\n",
    "    Z=np.array([[R_1+Z_L1+Z_C1, -ZM],\n",
    "                [-ZM, Z_L2+R_2+Z_EQ]])\n",
    "    V=np.array([V1,0])\n",
    "    I=np.dot(linalg.inv(Z),V)\n",
    "    return I[0], I[1]"
   ]
  },
  {
   "cell_type": "code",
   "execution_count": 37,
   "id": "085cacf9",
   "metadata": {},
   "outputs": [],
   "source": [
    "def devolve_correntes(f,k,R_1,R_2,L_1,L_2,C_1,C_2,V1,RC):\n",
    "    M = k*np.sqrt(L_1*L_2)\n",
    "    w = np.pi*2*f\n",
    "    Z_L1 = 0 + w*L_1*1j\n",
    "    Z_L2 = 0 + w*L_2*1j\n",
    "    Z_C1 = 0 - (1/(w*C_1))*1j\n",
    "    Z_C2 = 0 - (1/(w*C_2))*1j\n",
    "    Z_EQ = (RC/(RC*C_2*w*1j+1))\n",
    "    ZM = 0 + (w*M)*1j\n",
    "    I1,I2 = CalcularTransformador(R_1,R_2,Z_L1,Z_L2,Z_C1,Z_C2,Z_EQ,ZM,V1)\n",
    "    return I1,I2\n",
    "    "
   ]
  },
  {
   "cell_type": "code",
   "execution_count": 38,
   "id": "b7fc74ff",
   "metadata": {},
   "outputs": [],
   "source": [
    "def acha_I1_I2(k):\n",
    "    #Calculo da Indutância Mútua\n",
    "\n",
    "    Lista_I1 = []\n",
    "    Lista_I2 = []\n",
    "    #Loop para achar diferentes valores de I1 e I2\n",
    "    for f in Lista_Frequencias:\n",
    "        I1,I2 = devolve_correntes(f,k,R_1,R_2,L_1,L_2,C_1,C_2,V1,RC)\n",
    "        Lista_I1.append(np.abs(I1))\n",
    "        Lista_I2.append(np.abs(I2))\n",
    "\n",
    "    return Lista_I1,Lista_I2\n"
   ]
  },
  {
   "cell_type": "code",
   "execution_count": 39,
   "id": "e55cc246",
   "metadata": {},
   "outputs": [],
   "source": [
    "def annot_max(x,y, ax=None):\n",
    "    xmax = max(x)\n",
    "    ymax = max(y)\n",
    "    text= \"x={:.3f}, y={:.3f}\".format(xmax, ymax)\n",
    "    if not ax:\n",
    "        ax=plt.gca()\n",
    "    bbox_props = dict(boxstyle=\"square,pad=0.3\", fc=\"w\", ec=\"k\", lw=0.72)\n",
    "    arrowprops=dict(arrowstyle=\"->\",connectionstyle=\"angle,angleA=0,angleB=60\")\n",
    "    kw = dict(xycoords='data',textcoords=\"axes fraction\",\n",
    "              arrowprops=arrowprops, bbox=bbox_props, ha=\"right\", va=\"top\")\n",
    "    ax.annotate(text, xy=(xmax, ymax), xytext=(0.94,0.96), **kw)"
   ]
  },
  {
   "cell_type": "markdown",
   "id": "ab25f571",
   "metadata": {},
   "source": [
    "### Gráficos das Correntes x Frequência\n"
   ]
  },
  {
   "cell_type": "code",
   "execution_count": 47,
   "id": "5ee7260e",
   "metadata": {
    "scrolled": false
   },
   "outputs": [
    {
     "data": {
      "image/png": "[encoded data removed]",
      "text/plain": [
       "<Figure size 640x480 with 1 Axes>"
      ]
     },
     "metadata": {},
     "output_type": "display_data"
    }
   ],
   "source": [
    "I1,I2 = acha_I1_I2(0.1)\n",
    "\n",
    "I1max, I2max = max(I1), max(I2)\n",
    "indexI1, indexI2 = list(I1).index(I1max), list(I2).index(I2max)\n",
    "\n",
    "\n",
    "fmax1,fmax2 = Lista_Frequencias[indexI1],Lista_Frequencias[indexI2]\n",
    "fig = plt.figure()\n",
    "ax = fig.add_subplot(111)\n",
    "plt.plot(Lista_Frequencias,I1,'r', label = (\"I1\"))\n",
    "plt.plot(Lista_Frequencias,I2,'b', label = (\"I2\"))\n",
    "plt.plot(fmax1,I1max, \"-o\")\n",
    "plt.plot(fmax2,I2max, \"-o\")\n",
    "ax.annotate(f'{int(fmax1)}', xy=(fmax1, I1max), xytext=(fmax1+10, I1max),\n",
    "            arrowprops=dict(facecolor='black', shrink=0.1,width=1,headlength=10),\n",
    "            )\n",
    "ax.annotate(f'{int(fmax2)}', xy=(fmax2, I2max), xytext=(fmax2+10, I2max),\n",
    "            arrowprops=dict(facecolor='black', shrink=0.1,width=1,headlength=10),\n",
    "            )\n",
    "plt.legend()\n",
    "plt.title('Correntes x Frequência')\n",
    "plt.xlabel(\"Frequência (Hz)\")\n",
    "plt.ylabel(\"Corrente (A)\")\n",
    "plt.grid(True)\n",
    "plt.show()\n"
   ]
  },
  {
   "cell_type": "markdown",
   "id": "ed194d08",
   "metadata": {},
   "source": [
    "Variando a constante de acoplamento K com frequencia fixada em 335:"
   ]
  },
  {
   "cell_type": "code",
   "execution_count": 64,
   "id": "5439fe03",
   "metadata": {},
   "outputs": [],
   "source": [
    "Frequencia = 300\n",
    "lista_I1 = []\n",
    "lista_I2 = []\n",
    "for k in Lista_K:\n",
    "    I1,I2 = devolve_correntes(Frequencia,k,R_1,R_2,L_1,L_2,C_1,C_2,V1,RC)\n",
    "    lista_I1.append(np.abs(I1))\n",
    "    lista_I2.append(np.abs(I2))\n",
    "    \n",
    "\n",
    "    "
   ]
  },
  {
   "cell_type": "code",
   "execution_count": 65,
   "id": "e3c306a7",
   "metadata": {},
   "outputs": [
    {
     "data": {
      "image/png": "[encoded data removed]",
      "text/plain": [
       "<Figure size 640x480 with 1 Axes>"
      ]
     },
     "metadata": {},
     "output_type": "display_data"
    }
   ],
   "source": [
    "fig = plt.figure()\n",
    "ax = fig.add_subplot(111)\n",
    "plt.plot(Lista_K,lista_I1,'b',label = (\"I1\"))\n",
    "plt.plot(Lista_K,lista_I2,'r',label = (\"I2\"))\n",
    "plt.legend()\n",
    "plt.title('Corrente x Acoplamento')\n",
    "plt.ylabel(\"Corrente\")\n",
    "plt.xlabel(\"Coeficiente de Acoplamento\")\n",
    "plt.grid(True)\n",
    "plt.show()"
   ]
  },
  {
   "cell_type": "markdown",
   "id": "0270ed87",
   "metadata": {},
   "source": [
    "### Gráficos das Potências"
   ]
  },
  {
   "cell_type": "code",
   "execution_count": null,
   "id": "d11f94b8",
   "metadata": {},
   "outputs": [],
   "source": []
  },
  {
   "cell_type": "markdown",
   "id": "905f8905",
   "metadata": {},
   "source": [
    "### Gráfico Eficiência x Frequência"
   ]
  },
  {
   "cell_type": "code",
   "execution_count": null,
   "id": "474bf332",
   "metadata": {},
   "outputs": [],
   "source": []
  },
  {
   "cell_type": "markdown",
   "id": "ad116a65",
   "metadata": {},
   "source": [
    "### Gráfico Tensão na Carga x K"
   ]
  },
  {
   "cell_type": "code",
   "execution_count": null,
   "id": "ebd4556f",
   "metadata": {},
   "outputs": [],
   "source": []
  },
  {
   "cell_type": "code",
   "execution_count": null,
   "id": "c1fef292",
   "metadata": {},
   "outputs": [],
   "source": []
  },
  {
   "cell_type": "code",
   "execution_count": null,
   "id": "2b605e48",
   "metadata": {},
   "outputs": [],
   "source": []
  },
  {
   "cell_type": "code",
   "execution_count": null,
   "id": "d1c9ef4a",
   "metadata": {},
   "outputs": [],
   "source": []
  }
 ],
 "metadata": {
  "kernelspec": {
   "display_name": "Python 3 (ipykernel)",
   "language": "python",
   "name": "python3"
  },
  "language_info": {
   "codemirror_mode": {
    "name": "ipython",
    "version": 3
   },
   "file_extension": ".py",
   "mimetype": "text/x-python",
   "name": "python",
   "nbconvert_exporter": "python",
   "pygments_lexer": "ipython3",
   "version": "3.9.13"
  }
 },
 "nbformat": 4,
 "nbformat_minor": 5
}
