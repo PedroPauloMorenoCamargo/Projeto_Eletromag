{
 "cells": [
  {
   "cell_type": "markdown",
   "id": "080f97a6",
   "metadata": {},
   "source": [
    "#                                               Projeto WPT"
   ]
  },
  {
   "cell_type": "markdown",
   "id": "d1b714c5",
   "metadata": {},
   "source": [
    "### Diagrama do modelo eletrodinâmico do circuito WPT"
   ]
  },
  {
   "cell_type": "markdown",
   "id": "f547fdef",
   "metadata": {},
   "source": []
  },
  {
   "cell_type": "markdown",
   "id": "d1dd0102",
   "metadata": {},
   "source": [
    "### Modelo Numérico"
   ]
  },
  {
   "cell_type": "markdown",
   "id": "ed197352",
   "metadata": {},
   "source": [
    "Módulos Utilizados"
   ]
  },
  {
   "cell_type": "code",
   "execution_count": 2,
   "id": "90b785c1",
   "metadata": {},
   "outputs": [],
   "source": [
    "#Vamos importar os módulos que precisamos\n",
    "from math import *\n",
    "from cmath import *\n",
    "from numpy import linalg\n",
    "import numpy as np\n",
    "import matplotlib.pyplot as plt"
   ]
  },
  {
   "cell_type": "markdown",
   "id": "9dfb212f",
   "metadata": {},
   "source": [
    "Variáveis do Sistema: $R_1=0,5\\Omega$, $R_2=0,5\\Omega$, $L_1=300 mH$, $L_2=300 mH$, $C_1 = 1\\mu F$, $C_2 = 1\\mu F$ e $k=0,5$"
   ]
  },
  {
   "cell_type": "code",
   "execution_count": 3,
   "id": "6c2a1564",
   "metadata": {},
   "outputs": [],
   "source": [
    "# Implementação Variáveis\n",
    "R_1 = 0.5\n",
    "R_2= R_1\n",
    "L_1 = 300e-3\n",
    "L_2 = L_1\n",
    "C_1 = 1e-6\n",
    "C_2 = C_1\n",
    "V1 = 5\n",
    "Lista_K = np.arange(0,1,0.001)\n",
    "RC= 10"
   ]
  },
  {
   "cell_type": "code",
   "execution_count": 4,
   "id": "5d5af9f3",
   "metadata": {},
   "outputs": [],
   "source": [
    "#Adotando W referencial para descobrir a frequencia quando M tende a 0\n",
    "W_ref = (1/(L_1*C_1))**(0.5)\n",
    "#Cálculo da Frequência Referente\n",
    "F_ref = W_ref/(2*np.pi)\n",
    "\n",
    "Lista_Frequencias =  np.arange(F_ref,F_ref*1.5, 1)"
   ]
  },
  {
   "cell_type": "code",
   "execution_count": 5,
   "id": "8e0aac75",
   "metadata": {},
   "outputs": [],
   "source": [
    "def CalcularTransformador(Z_L1,Z_L2,Z_C1,Z_C2,Z_EQ,ZM):\n",
    "    \"\"\" \n",
    "    Função que devolve as correntes I1 e I2 em uma lista\n",
    "    \"\"\"\n",
    "    Z=np.array([[R_1+Z_L1+Z_C1, -ZM],\n",
    "                [-ZM, Z_L2+R_2+Z_EQ]])\n",
    "    V=np.array([V1,0])\n",
    "    I=np.dot(linalg.inv(Z),V)\n",
    "    return I[0], I[1]"
   ]
  },
  {
   "cell_type": "code",
   "execution_count": 6,
   "id": "77815e6a",
   "metadata": {},
   "outputs": [],
   "source": [
    "def devolve_correntes(f,k):\n",
    "    \"\"\" \n",
    "    Função Utilizada no loop que variamos o k (fator de acoplamento) percorrendo Lista_K e mantendo a frequência constante\n",
    "    \"\"\"\n",
    "    M = k*np.sqrt(L_1*L_2)\n",
    "    w = np.pi*2*f\n",
    "    Z_L1 = 0 + w*L_1*1j\n",
    "    Z_L2 = 0 + w*L_2*1j\n",
    "    Z_C1 = 0 - (1/(w*C_1))*1j\n",
    "    Z_C2 = 0 - (1/(w*C_2))*1j\n",
    "    Z_EQ = (RC/(RC*C_2*w*1j+1))\n",
    "    ZM = 0 + (w*M)*1j\n",
    "    I1,I2 = CalcularTransformador(Z_L1,Z_L2,Z_C1,Z_C2,Z_EQ,ZM)\n",
    "    return I1,I2\n",
    "    "
   ]
  },
  {
   "cell_type": "code",
   "execution_count": 7,
   "id": "5a4fdcc3",
   "metadata": {},
   "outputs": [],
   "source": [
    "def acha_I1_I2(k):\n",
    "    \"\"\"\n",
    "    Função utilizada para devolver o valor de I1 e I2. Aqui passamos o valor de k e percorremos lista_frequencias para achar a frequência de ressonância\n",
    "    \"\"\"\n",
    "\n",
    "    Lista_I1 = []\n",
    "    Lista_I2 = []\n",
    "    #Loop para achar diferentes valores de I1 e I2\n",
    "    for f in Lista_Frequencias:\n",
    "        I1,I2 = devolve_correntes(f,k)\n",
    "        Lista_I1.append(np.abs(I1))\n",
    "        Lista_I2.append(np.abs(I2))\n",
    "    array_final = np.column_stack((Lista_I1, Lista_I2))\n",
    "    return array_final\n"
   ]
  },
  {
   "cell_type": "code",
   "execution_count": 8,
   "id": "42a862e4",
   "metadata": {},
   "outputs": [],
   "source": [
    "def annot_max(x,y, ax=None):\n",
    "    \"\"\" \n",
    "    Função que recebe coordenadas e desenha \n",
    "    \"\"\"\n",
    "    xmax = max(x)\n",
    "    ymax = max(y)\n",
    "    text= \"x={:.3f}, y={:.3f}\".format(xmax, ymax)\n",
    "    if not ax:\n",
    "        ax=plt.gca()\n",
    "    bbox_props = dict(boxstyle=\"square,pad=0.3\", fc=\"w\", ec=\"k\", lw=0.72)\n",
    "    arrowprops=dict(arrowstyle=\"->\",connectionstyle=\"angle,angleA=0,angleB=60\")\n",
    "    kw = dict(xycoords='data',textcoords=\"axes fraction\",\n",
    "              arrowprops=arrowprops, bbox=bbox_props, ha=\"right\", va=\"top\")\n",
    "    ax.annotate(text, xy=(xmax, ymax), xytext=(0.94,0.96), **kw)"
   ]
  },
  {
   "cell_type": "markdown",
   "id": "a82bfb3d",
   "metadata": {},
   "source": [
    "### Gráficos das Correntes x Frequência\n"
   ]
  },
  {
   "cell_type": "code",
   "execution_count": 9,
   "id": "c37a1689",
   "metadata": {
    "scrolled": false
   },
   "outputs": [
    {
     "data": {
      "image/png": "[encoded data removed]",
      "text/plain": [
       "<Figure size 432x288 with 1 Axes>"
      ]
     },
     "metadata": {
      "needs_background": "light"
     },
     "output_type": "display_data"
    }
   ],
   "source": [
    "list_correntes = acha_I1_I2(0.5)\n",
    "I1 = list_correntes[:,0]\n",
    "I2 = list_correntes[:,1]\n",
    "\n",
    "\n",
    "I1max, I2max = np.max(I1), np.max(I2)\n",
    "indexI1, indexI2 = list(I1).index(I1max), list(I2).index(I2max)\n",
    "\n",
    "fmax1,fmax2 = Lista_Frequencias[indexI1],Lista_Frequencias[indexI2]\n",
    "fig = plt.figure()\n",
    "ax = fig.add_subplot(111)\n",
    "plt.plot(Lista_Frequencias,I1,'r', label = (\"I1\"))\n",
    "plt.plot(Lista_Frequencias,I2,'b', label = (\"I2\"))\n",
    "plt.plot(fmax1,I1max, \"-o\")\n",
    "plt.plot(fmax2,I2max, \"-o\")\n",
    "ax.annotate(f'{int(fmax1)}', xy=(fmax1, I1max), xytext=(fmax1+10, I1max),\n",
    "            arrowprops=dict(facecolor='black', shrink=0.1,width=1,headlength=10),\n",
    "            )\n",
    "ax.annotate(f'{int(fmax2)}', xy=(fmax2, I2max), xytext=(fmax2+10, I2max),\n",
    "            arrowprops=dict(facecolor='black', shrink=0.1,width=1,headlength=10),\n",
    "            )\n",
    "plt.legend()\n",
    "plt.title('Correntes x Frequência')\n",
    "plt.xlabel(\"Frequência (Hz)\")\n",
    "plt.ylabel(\"Corrente (A)\")\n",
    "plt.grid(True)\n",
    "plt.show()\n"
   ]
  },
  {
   "cell_type": "markdown",
   "id": "82eb4621",
   "metadata": {},
   "source": [
    "Variando a constante de acoplamento K com frequencia fixada em 335Hz :"
   ]
  },
  {
   "cell_type": "code",
   "execution_count": null,
   "id": "0944440b",
   "metadata": {},
   "outputs": [],
   "source": [
    "Frequencia = 335\n",
    "lista_I1 = []\n",
    "lista_I2 = []\n",
    "for k in Lista_K:\n",
    "    I1,I2 = devolve_correntes(Frequencia,k)\n",
    "    lista_I1.append(np.abs(I1))\n",
    "    lista_I2.append(np.abs(I2))\n",
    "    \n",
    "\n",
    "    "
   ]
  },
  {
   "cell_type": "code",
   "execution_count": null,
   "id": "d56a4bd2",
   "metadata": {},
   "outputs": [],
   "source": [
    "fig = plt.figure()\n",
    "ax = fig.add_subplot(111)\n",
    "plt.plot(Lista_K,lista_I1,'b',label = (\"I1\"))\n",
    "plt.plot(Lista_K,lista_I2,'r',label = (\"I2\"))\n",
    "plt.legend()\n",
    "plt.title('Corrente x Acoplamento')\n",
    "plt.ylabel(\"Corrente\")\n",
    "plt.xlabel(\"Coeficiente de Acoplamento\")\n",
    "plt.grid(True)\n",
    "plt.show()"
   ]
  },
  {
   "cell_type": "markdown",
   "id": "a05a9e56",
   "metadata": {},
   "source": [
    "### Gráficos das Potências"
   ]
  },
  {
   "cell_type": "code",
   "execution_count": null,
   "id": "8ad45cce",
   "metadata": {},
   "outputs": [],
   "source": [
    "def potencia(Veq, Ieq):\n",
    "    S = (Veq/sqrt(2))*(Ieq/sqrt(2)).conjugate()\n",
    "    return S\n",
    "def potencia_resistor(Ir,R):\n",
    "    S =R*(Ir/sqrt(2))*(Ir/sqrt(2)).conjugate()\n",
    "    return S\n"
   ]
  },
  {
   "cell_type": "code",
   "execution_count": null,
   "id": "2c449604",
   "metadata": {},
   "outputs": [],
   "source": [
    "k = 0.5\n",
    "lista_entradas = []\n",
    "lista_saidas = []\n",
    "lista_ganho =[]\n",
    "for f in Lista_Frequencias:\n",
    "    I1,I2 = devolve_correntes(f,k)\n",
    "    S_entrada = potencia(V1, I1)\n",
    "    lista_entradas.append(S_entrada.real)\n",
    "    w = np.pi*2*f\n",
    "    Z_C2 = 0 - (1/(w*C_2))*1j\n",
    "    Z_RC = 10\n",
    "    I3 = (I2*Z_C2)/(Z_RC-Z_C2)\n",
    "    S_saida = potencia_resistor(I3,RC)\n",
    "    lista_saidas.append(S_saida.real)\n",
    "    ganho = (S_saida/S_entrada)*100\n",
    "    lista_ganho.append(ganho)"
   ]
  },
  {
   "cell_type": "code",
   "execution_count": null,
   "id": "1efe9f20",
   "metadata": {},
   "outputs": [],
   "source": [
    "fig = plt.figure()\n",
    "ax = fig.add_subplot(111)\n",
    "plt.plot(Lista_Frequencias,lista_entradas,'b',label = (\"Entrada\"))\n",
    "plt.plot(Lista_Frequencias,lista_saidas,'g',label = (\"Saída\"))\n",
    "plt.legend()\n",
    "plt.title('Potências x Frequências')\n",
    "plt.ylabel(\"Potência (W)\")\n",
    "plt.xlabel(\"Frequência (Hz)\")\n",
    "plt.grid(True)\n",
    "plt.show()"
   ]
  },
  {
   "cell_type": "markdown",
   "id": "abb7388e",
   "metadata": {},
   "source": [
    "### Gráfico Eficiência x Frequência"
   ]
  },
  {
   "cell_type": "code",
   "execution_count": null,
   "id": "441d35c9",
   "metadata": {},
   "outputs": [],
   "source": [
    "plt.plot(Lista_Frequencias,lista_ganho,'b')\n",
    "plt.title('Rendimento x Frequencias')\n",
    "plt.ylabel(\"Rendimento(%)\")\n",
    "plt.xlabel(\"Frequência (Hz)\")\n",
    "plt.grid(True)\n",
    "plt.show()"
   ]
  },
  {
   "cell_type": "markdown",
   "id": "adfc4a90",
   "metadata": {},
   "source": [
    "### Gráfico Tensão na Carga x K"
   ]
  },
  {
   "cell_type": "code",
   "execution_count": null,
   "id": "5d8c46b0",
   "metadata": {},
   "outputs": [],
   "source": [
    "#Adotando W referencial para descobrir a frequencia quando M tende a 0\n",
    "W_ref = (1/(L_1*C_1))**(0.5)\n",
    "#Cálculo da Frequência Referente\n",
    "F_ref = W_ref/(2*np.pi)\n",
    "\n",
    "lista_V2 = []\n",
    "for k in Lista_K:\n",
    "    I1,I2 = devolve_correntes(F_ref,k)\n",
    "    w = np.pi*2*F_ref\n",
    "    Z_C2 = 0 - (1/(w*C_2))*1j\n",
    "    Z_RC = 10\n",
    "    I3 = (I2*Z_C2)/(Z_RC-Z_C2)\n",
    "    lista_V2.append(I3*RC)\n"
   ]
  },
  {
   "cell_type": "code",
   "execution_count": null,
   "id": "dda07857",
   "metadata": {},
   "outputs": [],
   "source": [
    "fig = plt.figure()\n",
    "ax = fig.add_subplot(111)\n",
    "plt.plot(Lista_K,np.abs(lista_V2),'b')\n",
    "plt.title('Tensão Saída x Acoplamento')\n",
    "plt.ylabel(\"Tensão (V)\")\n",
    "plt.xlabel(\"Coeficiente de Acoplamento\")\n",
    "plt.grid(True)\n",
    "plt.show()"
   ]
  },
  {
   "cell_type": "code",
   "execution_count": null,
   "id": "341c3d18",
   "metadata": {},
   "outputs": [],
   "source": []
  }
 ],
 "metadata": {
  "kernelspec": {
   "display_name": "Python 3.8.8 ('base')",
   "language": "python",
   "name": "python3"
  },
  "language_info": {
   "codemirror_mode": {
    "name": "ipython",
    "version": 3
   },
   "file_extension": ".py",
   "mimetype": "text/x-python",
   "name": "python",
   "nbconvert_exporter": "python",
   "pygments_lexer": "ipython3",
   "version": "3.8.8"
  },
  "vscode": {
   "interpreter": {
    "hash": "f52f256adf2cc158a51e888fcb9b6688be269c3160efd3d6e246b7ec509c991c"
   }
  }
 },
 "nbformat": 4,
 "nbformat_minor": 5
}
