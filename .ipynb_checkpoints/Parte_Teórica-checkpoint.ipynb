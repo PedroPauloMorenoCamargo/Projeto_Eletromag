{
 "cells": [
  {
   "cell_type": "markdown",
   "id": "b5ad0686",
   "metadata": {},
   "source": [
    "#                                               Projeto WPT"
   ]
  },
  {
   "cell_type": "markdown",
   "id": "0edb032e",
   "metadata": {},
   "source": [
    "### Diagrama do modelo eletrodinâmico do circuito WPT"
   ]
  },
  {
   "cell_type": "markdown",
   "id": "1f706059",
   "metadata": {},
   "source": []
  },
  {
   "cell_type": "markdown",
   "id": "4902a546",
   "metadata": {},
   "source": [
    "### Modelo Numérico"
   ]
  },
  {
   "cell_type": "markdown",
   "id": "97ed90ed",
   "metadata": {},
   "source": [
    "Módulos Utilizados"
   ]
  },
  {
   "cell_type": "code",
   "execution_count": null,
   "id": "a021b92e",
   "metadata": {},
   "outputs": [],
   "source": [
    "#Vamos importar os módulos que precisamos\n",
    "from math import *\n",
    "from cmath import *\n",
    "from numpy import linalg\n",
    "import numpy as np\n",
    "import matplotlib.pyplot as plt"
   ]
  },
  {
   "cell_type": "markdown",
   "id": "9300915d",
   "metadata": {},
   "source": [
    "Variáveis do Sistema: $R_1=0,5\\Omega$, $R_2=0,5\\Omega$, $L_1=300 mH$, $L_2=300 mH$, $C_1 = 1\\mu F$, $C_2 = 1\\mu F$ e $k=0,5$"
   ]
  },
  {
   "cell_type": "code",
   "execution_count": null,
   "id": "0a8b3d71",
   "metadata": {},
   "outputs": [],
   "source": [
    "# Implementação Variáveis\n",
    "R_1 = 0.5\n",
    "R_2= R_1\n",
    "L_1 = 300e-3\n",
    "L_2 = L_1\n",
    "C_1 = 1e-6\n",
    "C_2 = C_1\n",
    "V1 = 5\n",
    "Lista_K = np.arange(0,1,0.05)\n",
    "RC= 10"
   ]
  },
  {
   "cell_type": "code",
   "execution_count": null,
   "id": "904b0657",
   "metadata": {},
   "outputs": [],
   "source": [
    "#Adotando W referencial para descobrir a frequencia quando M tende a 0\n",
    "W_ref = (1/(L_1*C_1))**(0.5)\n",
    "#Cálculo da Frequência Referente\n",
    "F_ref = W_ref/(2*np.pi)\n",
    "\n",
    "Lista_Frequencias =  np.arange(F_ref,F_ref*1.5, 1)"
   ]
  },
  {
   "cell_type": "code",
   "execution_count": null,
   "id": "ce9b86dc",
   "metadata": {},
   "outputs": [],
   "source": [
    "def CalcularTransformador(Z_L1,Z_L2,Z_C1,Z_C2,Z_EQ,ZM):\n",
    "    Z=np.array([[R_1+Z_L1+Z_C1, -ZM],\n",
    "                [-ZM, Z_L2+R_2+Z_EQ]])\n",
    "    V=np.array([V1,0])\n",
    "    I=np.dot(linalg.inv(Z),V)\n",
    "    return I[0], I[1]"
   ]
  },
  {
   "cell_type": "code",
   "execution_count": null,
   "id": "06f09b4c",
   "metadata": {},
   "outputs": [],
   "source": [
    "def devolve_correntes(f,k):\n",
    "    M = k*np.sqrt(L_1*L_2)\n",
    "    w = np.pi*2*f\n",
    "    Z_L1 = 0 + w*L_1*1j\n",
    "    Z_L2 = 0 + w*L_2*1j\n",
    "    Z_C1 = 0 - (1/(w*C_1))*1j\n",
    "    Z_C2 = 0 - (1/(w*C_2))*1j\n",
    "    Z_EQ = (RC/(RC*C_2*w*1j+1))\n",
    "    ZM = 0 + (w*M)*1j\n",
    "    I1,I2 = CalcularTransformador(Z_L1,Z_L2,Z_C1,Z_C2,Z_EQ,ZM)\n",
    "    return I1,I2\n",
    "    "
   ]
  },
  {
   "cell_type": "code",
   "execution_count": null,
   "id": "5eab9b4f",
   "metadata": {},
   "outputs": [],
   "source": [
    "def acha_I1_I2(k):\n",
    "    #Calculo da Indutância Mútua\n",
    "\n",
    "    Lista_I1 = []\n",
    "    Lista_I2 = []\n",
    "    #Loop para achar diferentes valores de I1 e I2\n",
    "    for f in Lista_Frequencias:\n",
    "        I1,I2 = devolve_correntes(f,k)\n",
    "        Lista_I1.append(np.abs(I1))\n",
    "        Lista_I2.append(np.abs(I2))\n",
    "\n",
    "    return Lista_I1,Lista_I2\n"
   ]
  },
  {
   "cell_type": "code",
   "execution_count": null,
   "id": "2d28172a",
   "metadata": {},
   "outputs": [],
   "source": [
    "def annot_max(x,y, ax=None):\n",
    "    xmax = max(x)\n",
    "    ymax = max(y)\n",
    "    text= \"x={:.3f}, y={:.3f}\".format(xmax, ymax)\n",
    "    if not ax:\n",
    "        ax=plt.gca()\n",
    "    bbox_props = dict(boxstyle=\"square,pad=0.3\", fc=\"w\", ec=\"k\", lw=0.72)\n",
    "    arrowprops=dict(arrowstyle=\"->\",connectionstyle=\"angle,angleA=0,angleB=60\")\n",
    "    kw = dict(xycoords='data',textcoords=\"axes fraction\",\n",
    "              arrowprops=arrowprops, bbox=bbox_props, ha=\"right\", va=\"top\")\n",
    "    ax.annotate(text, xy=(xmax, ymax), xytext=(0.94,0.96), **kw)"
   ]
  },
  {
   "cell_type": "markdown",
   "id": "d60e8074",
   "metadata": {},
   "source": [
    "### Gráficos das Correntes x Frequência\n"
   ]
  },
  {
   "cell_type": "code",
   "execution_count": null,
   "id": "911ce9d2",
   "metadata": {
    "scrolled": false
   },
   "outputs": [],
   "source": [
    "I1,I2 = acha_I1_I2(0.5)\n",
    "\n",
    "I1max, I2max = max(I1), max(I2)\n",
    "indexI1, indexI2 = list(I1).index(I1max), list(I2).index(I2max)\n",
    "\n",
    "fmax1,fmax2 = Lista_Frequencias[indexI1],Lista_Frequencias[indexI2]\n",
    "fig = plt.figure()\n",
    "ax = fig.add_subplot(111)\n",
    "plt.plot(Lista_Frequencias,I1,'r', label = (\"I1\"))\n",
    "plt.plot(Lista_Frequencias,I2,'b', label = (\"I2\"))\n",
    "plt.plot(fmax1,I1max, \"-o\")\n",
    "plt.plot(fmax2,I2max, \"-o\")\n",
    "ax.annotate(f'{int(fmax1)}', xy=(fmax1, I1max), xytext=(fmax1+10, I1max),\n",
    "            arrowprops=dict(facecolor='black', shrink=0.1,width=1,headlength=10),\n",
    "            )\n",
    "ax.annotate(f'{int(fmax2)}', xy=(fmax2, I2max), xytext=(fmax2+10, I2max),\n",
    "            arrowprops=dict(facecolor='black', shrink=0.1,width=1,headlength=10),\n",
    "            )\n",
    "plt.legend()\n",
    "plt.title('Correntes x Frequência')\n",
    "plt.xlabel(\"Frequência (Hz)\")\n",
    "plt.ylabel(\"Corrente (A)\")\n",
    "plt.grid(True)\n",
    "plt.show()\n"
   ]
  },
  {
   "cell_type": "markdown",
   "id": "df05be05",
   "metadata": {},
   "source": [
    "Variando a constante de acoplamento K com frequencia fixada em 335:"
   ]
  },
  {
   "cell_type": "code",
   "execution_count": null,
   "id": "d60a10af",
   "metadata": {},
   "outputs": [],
   "source": [
    "Frequencia = 335\n",
    "lista_I1 = []\n",
    "lista_I2 = []\n",
    "for k in Lista_K:\n",
    "    I1,I2 = devolve_correntes(Frequencia,k)\n",
    "    lista_I1.append(np.abs(I1))\n",
    "    lista_I2.append(np.abs(I2))\n",
    "    \n",
    "\n",
    "    "
   ]
  },
  {
   "cell_type": "code",
   "execution_count": null,
   "id": "f3a99e72",
   "metadata": {},
   "outputs": [],
   "source": [
    "fig = plt.figure()\n",
    "ax = fig.add_subplot(111)\n",
    "plt.plot(Lista_K,lista_I1,'b',label = (\"I1\"))\n",
    "plt.plot(Lista_K,lista_I2,'r',label = (\"I2\"))\n",
    "plt.legend()\n",
    "plt.title('Corrente x Acoplamento')\n",
    "plt.ylabel(\"Corrente\")\n",
    "plt.xlabel(\"Coeficiente de Acoplamento\")\n",
    "plt.grid(True)\n",
    "plt.show()"
   ]
  },
  {
   "cell_type": "markdown",
   "id": "52dd5f55",
   "metadata": {},
   "source": [
    "### Gráficos das Potências"
   ]
  },
  {
   "cell_type": "code",
   "execution_count": null,
   "id": "9380b4ce",
   "metadata": {},
   "outputs": [],
   "source": [
    "def potencia(Veq, Ieq):\n",
    "    S = (Veq/sqrt(2))*(Ieq/sqrt(2)).conjugate()\n",
    "    return S\n",
    "def potencia_resistor(Ir,R):\n",
    "    S =R*(Ir/sqrt(2))*(Ir/sqrt(2)).conjugate()\n",
    "    return S\n"
   ]
  },
  {
   "cell_type": "code",
   "execution_count": null,
   "id": "4157f01a",
   "metadata": {},
   "outputs": [],
   "source": [
    "k = 0.5\n",
    "lista_entradas = []\n",
    "lista_saidas = []\n",
    "lista_ganho =[]\n",
    "for f in Lista_Frequencias:\n",
    "    I1,I2 = devolve_correntes(f,k)\n",
    "    S_entrada = potencia(V1, I1)\n",
    "    lista_entradas.append(S_entrada.real)\n",
    "    w = np.pi*2*f\n",
    "    Z_C2 = 0 - (1/(w*C_2))*1j\n",
    "    Z_RC = 10\n",
    "    I3 = (I2*Z_C2)/(Z_RC-Z_C2)\n",
    "    S_saida = potencia_resistor(I3,RC)\n",
    "    lista_saidas.append(S_saida.real)\n",
    "    ganho = S_saida/S_entrada\n",
    "    lista_ganho.append(ganho)"
   ]
  },
  {
   "cell_type": "code",
   "execution_count": null,
   "id": "2deeeb7e",
   "metadata": {},
   "outputs": [],
   "source": [
    "fig = plt.figure()\n",
    "ax = fig.add_subplot(111)\n",
    "plt.plot(Lista_Frequencias,lista_entradas,'b',label = (\"Entrada\"))\n",
    "plt.plot(Lista_Frequencias,lista_saidas,'g',label = (\"Saída\"))\n",
    "plt.legend()\n",
    "plt.title('Potências x Frequências')\n",
    "plt.ylabel(\"Potência (W)\")\n",
    "plt.xlabel(\"Frequência (Hz)\")\n",
    "plt.grid(True)\n",
    "plt.show()"
   ]
  },
  {
   "cell_type": "markdown",
   "id": "1b0e030d",
   "metadata": {},
   "source": [
    "### Gráfico Eficiência x Frequência"
   ]
  },
  {
   "cell_type": "code",
   "execution_count": null,
   "id": "546f980f",
   "metadata": {},
   "outputs": [],
   "source": [
    "plt.plot(Lista_Frequencias,lista_ganho,'b')\n",
    "plt.title('Rendimento x Frequencias')\n",
    "plt.ylabel(\"Rendimento(%)\")\n",
    "plt.xlabel(\"Frequência (Hz)\")\n",
    "plt.grid(True)\n",
    "plt.show()"
   ]
  },
  {
   "cell_type": "markdown",
   "id": "833fb0cb",
   "metadata": {},
   "source": [
    "### Gráfico Tensão na Carga x K"
   ]
  },
  {
   "cell_type": "code",
   "execution_count": null,
   "id": "9a017d10",
   "metadata": {},
   "outputs": [],
   "source": [
    "#Adotando W referencial para descobrir a frequencia quando M tende a 0\n",
    "W_ref = (1/(L_1*C_1))**(0.5)\n",
    "#Cálculo da Frequência Referente\n",
    "F_ref = W_ref/(2*np.pi)\n",
    "\n",
    "lista_V2 = []\n",
    "for k in Lista_K:\n",
    "    I1,I2 = devolve_correntes(F_ref,k)\n",
    "    w = np.pi*2*F_ref\n",
    "    Z_C2 = 0 - (1/(w*C_2))*1j\n",
    "    Z_RC = 10\n",
    "    I3 = (I2*Z_C2)/(Z_RC-Z_C2)\n",
    "    lista_V2.append(I3*RC)\n"
   ]
  },
  {
   "cell_type": "code",
   "execution_count": null,
   "id": "c5415e9a",
   "metadata": {},
   "outputs": [],
   "source": [
    "fig = plt.figure()\n",
    "ax = fig.add_subplot(111)\n",
    "plt.plot(Lista_K,lista_V2,'b')\n",
    "plt.title('Tensão Saída x Acoplamento')\n",
    "plt.ylabel(\"Tensão (V)\")\n",
    "plt.xlabel(\"Coeficiente de Acoplamento\")\n",
    "plt.grid(True)\n",
    "plt.show()"
   ]
  },
  {
   "cell_type": "code",
   "execution_count": null,
   "id": "83f3b219",
   "metadata": {},
   "outputs": [],
   "source": []
  }
 ],
 "metadata": {
  "kernelspec": {
   "display_name": "Python 3 (ipykernel)",
   "language": "python",
   "name": "python3"
  },
  "language_info": {
   "codemirror_mode": {
    "name": "ipython",
    "version": 3
   },
   "file_extension": ".py",
   "mimetype": "text/x-python",
   "name": "python",
   "nbconvert_exporter": "python",
   "pygments_lexer": "ipython3",
   "version": "3.9.13"
  }
 },
 "nbformat": 4,
 "nbformat_minor": 5
}
